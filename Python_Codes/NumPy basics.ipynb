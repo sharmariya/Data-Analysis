{
 "cells": [
  {
   "cell_type": "code",
   "execution_count": 1,
   "id": "9a7cbd78",
   "metadata": {},
   "outputs": [
    {
     "name": "stdout",
     "output_type": "stream",
     "text": [
      "[1 2 3 4 5]\n"
     ]
    }
   ],
   "source": [
    "#Creating 1-D array using Numpy\n",
    "import numpy as np\n",
    "arr=np.array([1,2,3,4,5])\n",
    "print(arr)"
   ]
  },
  {
   "cell_type": "code",
   "execution_count": 1,
   "id": "c8e7b28b",
   "metadata": {},
   "outputs": [
    {
     "name": "stdout",
     "output_type": "stream",
     "text": [
      "[[ 1  2  3  4  5]\n",
      " [ 6  7  8  9 10]]\n"
     ]
    }
   ],
   "source": [
    "#Creating 2-D array using Numpy\n",
    "arr=np.array([[1,2,3,4,5],[6,7,8,9,10]])\n",
    "print(arr)\n"
   ]
  },
  {
   "cell_type": "code",
   "execution_count": 1,
   "id": "ebb6d7e4",
   "metadata": {},
   "outputs": [
    {
     "name": "stdout",
     "output_type": "stream",
     "text": [
      "[[[ 1  2  3]\n",
      "  [ 4  5  6]]\n",
      "\n",
      " [[ 7  8  9]\n",
      "  [10 11 12]]]\n",
      "3\n",
      "(2, 2, 3)\n"
     ]
    }
   ],
   "source": [
    "#Creating 3-D array using Numpy (3D array has two 2D aaray as its elements)\n",
    "import numpy as np\n",
    "arr=np.array([[[1,2,3],[4,5,6]],[[7,8,9],[10,11,12]]])\n",
    "print(arr)\n",
    "print(arr.ndim)\n",
    "print(arr.shape)"
   ]
  },
  {
   "cell_type": "code",
   "execution_count": 6,
   "id": "001457cf",
   "metadata": {},
   "outputs": [
    {
     "name": "stdout",
     "output_type": "stream",
     "text": [
      "[[[[[1 2 3 4]]]]]\n",
      "5\n"
     ]
    }
   ],
   "source": [
    "#Creating an array with 5 dimensions and verifying\n",
    "ar=np.array([1,2,3,4],ndmin=5)\n",
    "print(ar)\n",
    "print(ar.ndim)"
   ]
  },
  {
   "cell_type": "code",
   "execution_count": 5,
   "id": "50e87c42",
   "metadata": {},
   "outputs": [
    {
     "name": "stdout",
     "output_type": "stream",
     "text": [
      "7\n",
      "3\n",
      "[2 3 7]\n",
      "[2 7]\n",
      "[1 3]\n",
      "2\n",
      "10\n"
     ]
    }
   ],
   "source": [
    "#Slicing and indexing 1-D array\n",
    "arr1=np.array([1,2,3,7])\n",
    "\n",
    "print(arr1[3])\n",
    "print(arr1[-2])\n",
    "print(arr1[1:4])\n",
    "print(arr1[1:4:2])\n",
    "print(arr1[::2])\n"
   ]
  },
  {
   "cell_type": "code",
   "execution_count": 6,
   "id": "83ed41fe",
   "metadata": {},
   "outputs": [
    {
     "name": "stdout",
     "output_type": "stream",
     "text": [
      "2\n",
      "10\n",
      "[3 4]\n",
      "[4 9]\n",
      "[[2 3 4]\n",
      " [7 8 9]]\n"
     ]
    }
   ],
   "source": [
    "#Slicing and indexing 2-D array\n",
    "arr2=np.array([[1,2,3,4,5],[6,7,8,9,10]])\n",
    "print(arr2[0,1]) #first row and second column element\n",
    "print(arr2[1,-1]) #last element from second dimension\n",
    "print(arr2[0,2:4])  #first row's elements with index 2,3\n",
    "print(arr2[0:2,3]) #elements with index 3 in both rows\n",
    "print(arr2[0:2,1:4]) #elements with index 1,2,3 in both rows"
   ]
  },
  {
   "cell_type": "code",
   "execution_count": 12,
   "id": "5e2f7bcd",
   "metadata": {},
   "outputs": [
    {
     "name": "stdout",
     "output_type": "stream",
     "text": [
      "int32\n"
     ]
    },
    {
     "data": {
      "text/plain": [
       "array([b'1', b'2', b'3'], dtype='|S1')"
      ]
     },
     "execution_count": 12,
     "metadata": {},
     "output_type": "execute_result"
    }
   ],
   "source": [
    "print(arr1.dtype )#to check data type\n",
    "ar=np.array([1,2,3],dtype='S')#creating array wth specified data type\n",
    "ar"
   ]
  },
  {
   "cell_type": "code",
   "execution_count": 14,
   "id": "ada7dd9e",
   "metadata": {},
   "outputs": [
    {
     "name": "stdout",
     "output_type": "stream",
     "text": [
      "[1 2 3]\n"
     ]
    }
   ],
   "source": [
    "#converting data type of existing array\n",
    "ar_new=ar.astype('i')\n",
    "print(ar_new)"
   ]
  },
  {
   "cell_type": "code",
   "execution_count": 16,
   "id": "176bbb89",
   "metadata": {},
   "outputs": [
    {
     "name": "stdout",
     "output_type": "stream",
     "text": [
      "[ 1  2 45  4  5  6]\n",
      "[1 2 3 4 5 6]\n",
      "[ 1  2 45  4  5  6]\n",
      "None\n",
      "[ 1  2 45  4  5  6]\n"
     ]
    }
   ],
   "source": [
    "#Copy VS View\n",
    "#Copy owns the data and any changes made to copy will not affect original array and vice-versa\n",
    "#View does not owns the data and any changes made to copy will affect original array and vice-versa\n",
    "arr=np.array([1,2,3,4,5,6])\n",
    "c=arr.copy()\n",
    "v=arr.view()\n",
    "arr[2]=45\n",
    "print(arr)\n",
    "print(c)\n",
    "print(v)\n",
    "\n",
    "\n",
    "#Checking if copy and view owns the data or not\n",
    "#Numpy array has an attribute base that returns none if array owns the data. Otherwise, the base attribute refers to the original object\n",
    "print(c.base)\n",
    "print(v.base)"
   ]
  },
  {
   "cell_type": "code",
   "execution_count": 18,
   "id": "67601b29",
   "metadata": {},
   "outputs": [
    {
     "name": "stdout",
     "output_type": "stream",
     "text": [
      "[[1 2 3]\n",
      " [4 5 6]]\n",
      "[1 2 3 4 5 6]\n"
     ]
    }
   ],
   "source": [
    "#reshaping 1-d to 2-d\n",
    "arr=np.array([1,2,3,4,5,6])\n",
    "new= arr.reshape(2,3)#2= no. of rows, 3= no. of columns\n",
    "print(new)\n",
    "\n",
    "#flattening the array -> reshape(-1)\n",
    "print(new.reshape(-1))"
   ]
  },
  {
   "cell_type": "code",
   "execution_count": 21,
   "id": "98508e8c",
   "metadata": {},
   "outputs": [
    {
     "name": "stdout",
     "output_type": "stream",
     "text": [
      "[1 2 3 4 5]\n",
      "[ 6  7  8  9 10]\n",
      "1\n",
      "2\n",
      "3\n",
      "4\n",
      "5\n",
      "6\n",
      "7\n",
      "8\n",
      "9\n",
      "10\n",
      "1\n",
      "2\n",
      "3\n",
      "4\n",
      "5\n",
      "6\n",
      "7\n",
      "8\n",
      "9\n",
      "10\n"
     ]
    }
   ],
   "source": [
    "#iterate on elements of 2-D array\n",
    "arr=np.array([[1,2,3,4,5],[6,7,8,9,10]])\n",
    "for x in arr:\n",
    "    print(x)\n",
    " \n",
    "#iterate on each scalar elements of 2-D array\n",
    "\n",
    "for x in arr:\n",
    "    for y in x:\n",
    "        print(y)\n",
    "        \n",
    "#iteration on each scalar element of multi dimensional array can be directly done using -> nditer(array_name)\n",
    "for x in np.nditer(arr):\n",
    "    print(x)\n",
    "    "
   ]
  },
  {
   "cell_type": "code",
   "execution_count": 24,
   "id": "362fceac",
   "metadata": {},
   "outputs": [
    {
     "name": "stdout",
     "output_type": "stream",
     "text": [
      "1\n",
      "3\n",
      "6\n",
      "8\n"
     ]
    }
   ],
   "source": [
    "#iterate with different step size\n",
    "for x in np.nditer(arr[0:2,0:-1:2]):\n",
    "    print(x)"
   ]
  },
  {
   "cell_type": "code",
   "execution_count": 26,
   "id": "5f427c53",
   "metadata": {},
   "outputs": [
    {
     "name": "stdout",
     "output_type": "stream",
     "text": [
      "[[1 2]\n",
      " [3 4]\n",
      " [5 6]\n",
      " [7 8]]\n",
      "[[1 2 5 6]\n",
      " [3 4 7 8]]\n"
     ]
    }
   ],
   "source": [
    "#Joining 2 arrays using concatenate\n",
    "arr1=np.array([[1,2],[3,4]])\n",
    "arr2=np.array([[5,6],[7,8]])\n",
    "a1= np.concatenate((arr1,arr2),axis=0) #second array will be placed below first array\n",
    "a2=np.concatenate((arr1,arr2),axis=1) #second array will be placed adjuscent to first array\n",
    "print(a1)\n",
    "print(a2)"
   ]
  },
  {
   "cell_type": "code",
   "execution_count": 30,
   "id": "a70bcbb2",
   "metadata": {},
   "outputs": [
    {
     "name": "stdout",
     "output_type": "stream",
     "text": [
      "[array([1, 2]), array([3, 4]), array([5, 6])]\n",
      "[array([1, 2]), array([3, 4]), array([5]), array([6])]\n",
      "[1 2]\n",
      "[array([[1, 2, 3]]), array([[4, 5, 6]]), array([], shape=(0, 3), dtype=int32)]\n"
     ]
    }
   ],
   "source": [
    "#Splitting Numpy array\n",
    "arr= np.array([1,2,3,4,5,6])\n",
    "a1= np.array_split(arr,3) #split array into 3 arrays\n",
    "a2= np.array_split(arr,4)#if has less elements then requires it will adjust from end accordingly\n",
    "print(a1)\n",
    "print(a2)\n",
    "\n",
    "#split arrays can be accessed like array elemnts\n",
    "print(a1[0])\n",
    "\n",
    "#splitting numpy 2-D array\n",
    "arr2= np.array([[1,2,3],[4,5,6]])\n",
    "a12= np.array_split(arr2,3)\n",
    "print(a12)"
   ]
  },
  {
   "cell_type": "code",
   "execution_count": 33,
   "id": "749f17e5",
   "metadata": {},
   "outputs": [
    {
     "name": "stdout",
     "output_type": "stream",
     "text": [
      "(array([3, 6], dtype=int64),)\n",
      "(array([1, 3, 5, 6], dtype=int64),)\n",
      "1\n",
      "[0 4]\n",
      "2\n"
     ]
    }
   ],
   "source": [
    "#Numpy searching array\n",
    "\n",
    "#where()\n",
    "arr=np.array([1,2,3,4,5,6,4])\n",
    "print(np.where(arr==4)) #returns positions of 4 in array\n",
    "print(np.where(arr%2==0)) #returns position of even numbers in array\n",
    "\n",
    "#searchsorted()- performs binary search  and returns the index where the specified value should be inserted to maintain search order. It is assumed to be used on sorted arrays\n",
    "\n",
    "aa=np.array([2,3,4,5])\n",
    "print(np.searchsorted(aa,3)) #returns index where 3 should be inserted \n",
    "\n",
    "#searchsorting multiple values\n",
    "print(np.searchsorted(aa,[1,6])) #returns pos where 1 and 6 should be inserted\n",
    "\n",
    "#searching from right side\n",
    "print(np.searchsorted(aa,3,side='right')) #indexing will be done from right and index pos where 3 should be inserted will be given\n"
   ]
  },
  {
   "cell_type": "code",
   "execution_count": 34,
   "id": "e8b2e7a3",
   "metadata": {},
   "outputs": [
    {
     "name": "stdout",
     "output_type": "stream",
     "text": [
      "[1 2 3 9]\n",
      "[False  True  True]\n",
      "[[2 3 4]\n",
      " [5 7 8]]\n"
     ]
    }
   ],
   "source": [
    "#Sorting array\n",
    "ar=np.array([1,9,3,2])\n",
    "print(np.sort(ar))\n",
    "\n",
    "ar2=np.array([True, False, True])\n",
    "print(np.sort(ar2))\n",
    "\n",
    "#sorting 2-D array\n",
    "ar3=np.array([[3,2,4],[5,8,7]])\n",
    "print(np.sort(ar3))\n"
   ]
  },
  {
   "cell_type": "code",
   "execution_count": null,
   "id": "c2e49a40",
   "metadata": {},
   "outputs": [],
   "source": []
  }
 ],
 "metadata": {
  "kernelspec": {
   "display_name": "Python 3 (ipykernel)",
   "language": "python",
   "name": "python3"
  },
  "language_info": {
   "codemirror_mode": {
    "name": "ipython",
    "version": 3
   },
   "file_extension": ".py",
   "mimetype": "text/x-python",
   "name": "python",
   "nbconvert_exporter": "python",
   "pygments_lexer": "ipython3",
   "version": "3.9.12"
  }
 },
 "nbformat": 4,
 "nbformat_minor": 5
}
