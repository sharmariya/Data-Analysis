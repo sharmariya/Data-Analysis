{
 "cells": [
  {
   "cell_type": "code",
   "execution_count": 80,
   "id": "155345e6",
   "metadata": {},
   "outputs": [],
   "source": [
    "#import the libraries\n",
    "import pandas as pd\n",
    "import numpy as np\n",
    "import matplotlib.pyplot as plt\n",
    "import seaborn as sns\n",
    "from sklearn.model_selection import train_test_split, StratifiedShuffleSplit, GridSearchCV\n",
    "from sklearn.ensemble import RandomForestClassifier\n",
    "from sklearn.linear_model import LogisticRegression\n",
    "from sklearn.metrics import accuracy_score, precision_score, recall_score\n",
    "from sklearn.metrics import confusion_matrix\n",
    "from sklearn.preprocessing import OneHotEncoder, OrdinalEncoder, StandardScaler"
   ]
  },
  {
   "cell_type": "code",
   "execution_count": 81,
   "id": "90ff73ea",
   "metadata": {},
   "outputs": [],
   "source": [
    "# Load the dataset\n",
    "data=pd.read_csv('Educational Data.csv')"
   ]
  },
  {
   "cell_type": "code",
   "execution_count": 82,
   "id": "f6e2bca6",
   "metadata": {},
   "outputs": [
    {
     "data": {
      "text/html": [
       "<div>\n",
       "<style scoped>\n",
       "    .dataframe tbody tr th:only-of-type {\n",
       "        vertical-align: middle;\n",
       "    }\n",
       "\n",
       "    .dataframe tbody tr th {\n",
       "        vertical-align: top;\n",
       "    }\n",
       "\n",
       "    .dataframe thead th {\n",
       "        text-align: right;\n",
       "    }\n",
       "</style>\n",
       "<table border=\"1\" class=\"dataframe\">\n",
       "  <thead>\n",
       "    <tr style=\"text-align: right;\">\n",
       "      <th></th>\n",
       "      <th>gender</th>\n",
       "      <th>NationalITy</th>\n",
       "      <th>PlaceofBirth</th>\n",
       "      <th>StageID</th>\n",
       "      <th>GradeID</th>\n",
       "      <th>SectionID</th>\n",
       "      <th>Topic</th>\n",
       "      <th>Semester</th>\n",
       "      <th>Relation</th>\n",
       "      <th>raisedhands</th>\n",
       "      <th>VisITedResources</th>\n",
       "      <th>AnnouncementsView</th>\n",
       "      <th>Discussion</th>\n",
       "      <th>ParentAnsweringSurvey</th>\n",
       "      <th>ParentschoolSatisfaction</th>\n",
       "      <th>StudentAbsenceDays</th>\n",
       "      <th>Class</th>\n",
       "    </tr>\n",
       "  </thead>\n",
       "  <tbody>\n",
       "    <tr>\n",
       "      <th>0</th>\n",
       "      <td>M</td>\n",
       "      <td>KW</td>\n",
       "      <td>KuwaIT</td>\n",
       "      <td>lowerlevel</td>\n",
       "      <td>G-04</td>\n",
       "      <td>A</td>\n",
       "      <td>IT</td>\n",
       "      <td>F</td>\n",
       "      <td>Father</td>\n",
       "      <td>15</td>\n",
       "      <td>16</td>\n",
       "      <td>2</td>\n",
       "      <td>20</td>\n",
       "      <td>Yes</td>\n",
       "      <td>Good</td>\n",
       "      <td>Under-7</td>\n",
       "      <td>M</td>\n",
       "    </tr>\n",
       "    <tr>\n",
       "      <th>1</th>\n",
       "      <td>M</td>\n",
       "      <td>KW</td>\n",
       "      <td>KuwaIT</td>\n",
       "      <td>lowerlevel</td>\n",
       "      <td>G-04</td>\n",
       "      <td>A</td>\n",
       "      <td>IT</td>\n",
       "      <td>F</td>\n",
       "      <td>Father</td>\n",
       "      <td>20</td>\n",
       "      <td>20</td>\n",
       "      <td>3</td>\n",
       "      <td>25</td>\n",
       "      <td>Yes</td>\n",
       "      <td>Good</td>\n",
       "      <td>Under-7</td>\n",
       "      <td>M</td>\n",
       "    </tr>\n",
       "    <tr>\n",
       "      <th>2</th>\n",
       "      <td>M</td>\n",
       "      <td>KW</td>\n",
       "      <td>KuwaIT</td>\n",
       "      <td>lowerlevel</td>\n",
       "      <td>G-04</td>\n",
       "      <td>A</td>\n",
       "      <td>IT</td>\n",
       "      <td>F</td>\n",
       "      <td>Father</td>\n",
       "      <td>10</td>\n",
       "      <td>7</td>\n",
       "      <td>0</td>\n",
       "      <td>30</td>\n",
       "      <td>No</td>\n",
       "      <td>Bad</td>\n",
       "      <td>Above-7</td>\n",
       "      <td>L</td>\n",
       "    </tr>\n",
       "    <tr>\n",
       "      <th>3</th>\n",
       "      <td>M</td>\n",
       "      <td>KW</td>\n",
       "      <td>KuwaIT</td>\n",
       "      <td>lowerlevel</td>\n",
       "      <td>G-04</td>\n",
       "      <td>A</td>\n",
       "      <td>IT</td>\n",
       "      <td>F</td>\n",
       "      <td>Father</td>\n",
       "      <td>30</td>\n",
       "      <td>25</td>\n",
       "      <td>5</td>\n",
       "      <td>35</td>\n",
       "      <td>No</td>\n",
       "      <td>Bad</td>\n",
       "      <td>Above-7</td>\n",
       "      <td>L</td>\n",
       "    </tr>\n",
       "    <tr>\n",
       "      <th>4</th>\n",
       "      <td>M</td>\n",
       "      <td>KW</td>\n",
       "      <td>KuwaIT</td>\n",
       "      <td>lowerlevel</td>\n",
       "      <td>G-04</td>\n",
       "      <td>A</td>\n",
       "      <td>IT</td>\n",
       "      <td>F</td>\n",
       "      <td>Father</td>\n",
       "      <td>40</td>\n",
       "      <td>50</td>\n",
       "      <td>12</td>\n",
       "      <td>50</td>\n",
       "      <td>No</td>\n",
       "      <td>Bad</td>\n",
       "      <td>Above-7</td>\n",
       "      <td>M</td>\n",
       "    </tr>\n",
       "  </tbody>\n",
       "</table>\n",
       "</div>"
      ],
      "text/plain": [
       "  gender NationalITy PlaceofBirth     StageID GradeID SectionID Topic  \\\n",
       "0      M          KW       KuwaIT  lowerlevel    G-04         A    IT   \n",
       "1      M          KW       KuwaIT  lowerlevel    G-04         A    IT   \n",
       "2      M          KW       KuwaIT  lowerlevel    G-04         A    IT   \n",
       "3      M          KW       KuwaIT  lowerlevel    G-04         A    IT   \n",
       "4      M          KW       KuwaIT  lowerlevel    G-04         A    IT   \n",
       "\n",
       "  Semester Relation  raisedhands  VisITedResources  AnnouncementsView  \\\n",
       "0        F   Father           15                16                  2   \n",
       "1        F   Father           20                20                  3   \n",
       "2        F   Father           10                 7                  0   \n",
       "3        F   Father           30                25                  5   \n",
       "4        F   Father           40                50                 12   \n",
       "\n",
       "   Discussion ParentAnsweringSurvey ParentschoolSatisfaction  \\\n",
       "0          20                   Yes                     Good   \n",
       "1          25                   Yes                     Good   \n",
       "2          30                    No                      Bad   \n",
       "3          35                    No                      Bad   \n",
       "4          50                    No                      Bad   \n",
       "\n",
       "  StudentAbsenceDays Class  \n",
       "0            Under-7     M  \n",
       "1            Under-7     M  \n",
       "2            Above-7     L  \n",
       "3            Above-7     L  \n",
       "4            Above-7     M  "
      ]
     },
     "execution_count": 82,
     "metadata": {},
     "output_type": "execute_result"
    }
   ],
   "source": [
    "# Display the first 5 rows of the dataset\n",
    "data.head(5)"
   ]
  },
  {
   "cell_type": "code",
   "execution_count": 83,
   "id": "30d6fbb8",
   "metadata": {},
   "outputs": [
    {
     "data": {
      "text/plain": [
       "(480, 17)"
      ]
     },
     "execution_count": 83,
     "metadata": {},
     "output_type": "execute_result"
    }
   ],
   "source": [
    "#Check the shape of the dataset (number of rows and columns)\n",
    "data.shape"
   ]
  },
  {
   "cell_type": "code",
   "execution_count": 84,
   "id": "a54c0eaa",
   "metadata": {},
   "outputs": [
    {
     "name": "stdout",
     "output_type": "stream",
     "text": [
      "<class 'pandas.core.frame.DataFrame'>\n",
      "RangeIndex: 480 entries, 0 to 479\n",
      "Data columns (total 17 columns):\n",
      " #   Column                    Non-Null Count  Dtype \n",
      "---  ------                    --------------  ----- \n",
      " 0   gender                    480 non-null    object\n",
      " 1   NationalITy               480 non-null    object\n",
      " 2   PlaceofBirth              480 non-null    object\n",
      " 3   StageID                   480 non-null    object\n",
      " 4   GradeID                   480 non-null    object\n",
      " 5   SectionID                 480 non-null    object\n",
      " 6   Topic                     480 non-null    object\n",
      " 7   Semester                  480 non-null    object\n",
      " 8   Relation                  480 non-null    object\n",
      " 9   raisedhands               480 non-null    int64 \n",
      " 10  VisITedResources          480 non-null    int64 \n",
      " 11  AnnouncementsView         480 non-null    int64 \n",
      " 12  Discussion                480 non-null    int64 \n",
      " 13  ParentAnsweringSurvey     480 non-null    object\n",
      " 14  ParentschoolSatisfaction  480 non-null    object\n",
      " 15  StudentAbsenceDays        480 non-null    object\n",
      " 16  Class                     480 non-null    object\n",
      "dtypes: int64(4), object(13)\n",
      "memory usage: 63.9+ KB\n"
     ]
    }
   ],
   "source": [
    "#data overview\n",
    "data.info()"
   ]
  },
  {
   "cell_type": "code",
   "execution_count": 85,
   "id": "8fbd6b97",
   "metadata": {},
   "outputs": [
    {
     "data": {
      "text/html": [
       "<div>\n",
       "<style scoped>\n",
       "    .dataframe tbody tr th:only-of-type {\n",
       "        vertical-align: middle;\n",
       "    }\n",
       "\n",
       "    .dataframe tbody tr th {\n",
       "        vertical-align: top;\n",
       "    }\n",
       "\n",
       "    .dataframe thead th {\n",
       "        text-align: right;\n",
       "    }\n",
       "</style>\n",
       "<table border=\"1\" class=\"dataframe\">\n",
       "  <thead>\n",
       "    <tr style=\"text-align: right;\">\n",
       "      <th></th>\n",
       "      <th>raisedhands</th>\n",
       "      <th>VisITedResources</th>\n",
       "      <th>AnnouncementsView</th>\n",
       "      <th>Discussion</th>\n",
       "    </tr>\n",
       "  </thead>\n",
       "  <tbody>\n",
       "    <tr>\n",
       "      <th>count</th>\n",
       "      <td>480.000000</td>\n",
       "      <td>480.000000</td>\n",
       "      <td>480.000000</td>\n",
       "      <td>480.000000</td>\n",
       "    </tr>\n",
       "    <tr>\n",
       "      <th>mean</th>\n",
       "      <td>46.775000</td>\n",
       "      <td>54.797917</td>\n",
       "      <td>37.918750</td>\n",
       "      <td>43.283333</td>\n",
       "    </tr>\n",
       "    <tr>\n",
       "      <th>std</th>\n",
       "      <td>30.779223</td>\n",
       "      <td>33.080007</td>\n",
       "      <td>26.611244</td>\n",
       "      <td>27.637735</td>\n",
       "    </tr>\n",
       "    <tr>\n",
       "      <th>min</th>\n",
       "      <td>0.000000</td>\n",
       "      <td>0.000000</td>\n",
       "      <td>0.000000</td>\n",
       "      <td>1.000000</td>\n",
       "    </tr>\n",
       "    <tr>\n",
       "      <th>25%</th>\n",
       "      <td>15.750000</td>\n",
       "      <td>20.000000</td>\n",
       "      <td>14.000000</td>\n",
       "      <td>20.000000</td>\n",
       "    </tr>\n",
       "    <tr>\n",
       "      <th>50%</th>\n",
       "      <td>50.000000</td>\n",
       "      <td>65.000000</td>\n",
       "      <td>33.000000</td>\n",
       "      <td>39.000000</td>\n",
       "    </tr>\n",
       "    <tr>\n",
       "      <th>75%</th>\n",
       "      <td>75.000000</td>\n",
       "      <td>84.000000</td>\n",
       "      <td>58.000000</td>\n",
       "      <td>70.000000</td>\n",
       "    </tr>\n",
       "    <tr>\n",
       "      <th>max</th>\n",
       "      <td>100.000000</td>\n",
       "      <td>99.000000</td>\n",
       "      <td>98.000000</td>\n",
       "      <td>99.000000</td>\n",
       "    </tr>\n",
       "  </tbody>\n",
       "</table>\n",
       "</div>"
      ],
      "text/plain": [
       "       raisedhands  VisITedResources  AnnouncementsView  Discussion\n",
       "count   480.000000        480.000000         480.000000  480.000000\n",
       "mean     46.775000         54.797917          37.918750   43.283333\n",
       "std      30.779223         33.080007          26.611244   27.637735\n",
       "min       0.000000          0.000000           0.000000    1.000000\n",
       "25%      15.750000         20.000000          14.000000   20.000000\n",
       "50%      50.000000         65.000000          33.000000   39.000000\n",
       "75%      75.000000         84.000000          58.000000   70.000000\n",
       "max     100.000000         99.000000          98.000000   99.000000"
      ]
     },
     "execution_count": 85,
     "metadata": {},
     "output_type": "execute_result"
    }
   ],
   "source": [
    "#descriptive statistics\n",
    "data.describe()"
   ]
  },
  {
   "cell_type": "code",
   "execution_count": 86,
   "id": "86199448",
   "metadata": {},
   "outputs": [
    {
     "data": {
      "text/plain": [
       "gender                      0\n",
       "NationalITy                 0\n",
       "PlaceofBirth                0\n",
       "StageID                     0\n",
       "GradeID                     0\n",
       "SectionID                   0\n",
       "Topic                       0\n",
       "Semester                    0\n",
       "Relation                    0\n",
       "raisedhands                 0\n",
       "VisITedResources            0\n",
       "AnnouncementsView           0\n",
       "Discussion                  0\n",
       "ParentAnsweringSurvey       0\n",
       "ParentschoolSatisfaction    0\n",
       "StudentAbsenceDays          0\n",
       "Class                       0\n",
       "dtype: int64"
      ]
     },
     "execution_count": 86,
     "metadata": {},
     "output_type": "execute_result"
    }
   ],
   "source": [
    "#Identify missing values\n",
    "data.isnull().sum()"
   ]
  },
  {
   "cell_type": "code",
   "execution_count": 87,
   "id": "1147d045",
   "metadata": {},
   "outputs": [
    {
     "data": {
      "image/png": "[encoded data removed]",
      "text/plain": [
       "<Figure size 864x576 with 2 Axes>"
      ]
     },
     "metadata": {
      "needs_background": "light"
     },
     "output_type": "display_data"
    }
   ],
   "source": [
    "#Finding the correlation between features of the dataset and plotting the heatmap for \n",
    "correlation= data.corr()\n",
    "\n",
    "plt.figure(figsize=(12,8))\n",
    "sns.heatmap(correlation, annot=True, cmap='coolwarm')\n",
    "plt.show()"
   ]
  },
  {
   "cell_type": "code",
   "execution_count": 88,
   "id": "246add7b",
   "metadata": {},
   "outputs": [
    {
     "data": {
      "image/png": "[encoded data removed]",
      "text/plain": [
       "<Figure size 864x576 with 4 Axes>"
      ]
     },
     "metadata": {
      "needs_background": "light"
     },
     "output_type": "display_data"
    }
   ],
   "source": [
    "#Data Visualization\n",
    "\n",
    "# Specify the columns to plot\n",
    "columns_to_plot = ['raisedhands', 'VisITedResources', 'AnnouncementsView', 'Discussion']\n",
    "\n",
    "# Set up the figure and axes\n",
    "fig, axes = plt.subplots(2, 2, figsize=(12, 8))\n",
    "\n",
    "# Flatten the axes array for easy iteration\n",
    "axes = axes.ravel()\n",
    "\n",
    "# Plot histograms for each column\n",
    "for idx, column in enumerate(columns_to_plot):\n",
    "    axes[idx].hist(data[column], bins=50, color='pink')\n",
    "    axes[idx].set_title(column)\n",
    "\n",
    "# Adjust layout for better spacing between plots\n",
    "plt.tight_layout()\n",
    "\n",
    "# Show the plots\n",
    "plt.show()\n"
   ]
  },
  {
   "cell_type": "code",
   "execution_count": 89,
   "id": "0c2eff47",
   "metadata": {},
   "outputs": [],
   "source": [
    "#Categorical and Ordinal Data Division\n",
    "\n",
    "# Columns that contain ordinal categorical data\n",
    "categorical_ordinal_columns = ['StageID', 'GradeID', 'StudentAbsenceDays', 'Semester']\n",
    "\n",
    "# Columns that contain nominal categorical data\n",
    "categorical_nominal_columns = ['gender', 'Relation', 'ParentAnsweringSurvey', 'ParentschoolSatisfaction', 'Topic']\n"
   ]
  },
  {
   "cell_type": "code",
   "execution_count": 90,
   "id": "ce919a1b",
   "metadata": {},
   "outputs": [],
   "source": [
    "from sklearn.preprocessing import OrdinalEncoder\n",
    "\n",
    "# Initialize OrdinalEncoder for ordinal features\n",
    "ord_enc = OrdinalEncoder()\n",
    "\n",
    "# Encode ordinal categorical columns\n",
    "data[categorical_ordinal_columns] = ord_enc.fit_transform(data[categorical_ordinal_columns])\n",
    "\n",
    "# Define the correct order for 'Class' values\n",
    "class_order = [['L', 'M', 'H']]\n",
    "\n",
    "# Initialize OrdinalEncoder with custom order for 'Class'\n",
    "class_enc = OrdinalEncoder(categories=class_order)\n",
    "\n",
    "# Encode the 'Class' column\n",
    "data['Class'] = class_enc.fit_transform(data[['Class']])\n",
    "\n",
    "# Retrieve categories for reference\n",
    "class_categories = class_enc.categories_\n"
   ]
  },
  {
   "cell_type": "code",
   "execution_count": 71,
   "id": "0b7bfc1b",
   "metadata": {},
   "outputs": [],
   "source": [
    "#Encoding for Nominal Data\n",
    "# Initialize OneHotEncoder with dense output\n",
    "ohe = OneHotEncoder(sparse_output=False)\n",
    "\n",
    "# Apply one-hot encoding to the nominal columns\n",
    "encoded_array = ohe.fit_transform(data[nominal_cols])\n",
    "\n",
    "# Convert the encoded array into a DataFrame with appropriate column names\n",
    "encoded_df = pd.DataFrame(encoded_array, columns=ohe.get_feature_names_out(nominal_cols))\n",
    "\n",
    "# Remove the original nominal columns from the DataFrame\n",
    "data.drop(nominal_cols, axis=1, inplace=True)\n",
    "\n",
    "# Add the new one-hot encoded columns to the DataFrame\n",
    "data = pd.concat([data, encoded_df], axis=1)"
   ]
  },
  {
   "cell_type": "code",
   "execution_count": 72,
   "id": "98db37c3",
   "metadata": {},
   "outputs": [],
   "source": [
    "data.drop(columns_to_drop, axis=1, inplace=True)"
   ]
  },
  {
   "cell_type": "code",
   "execution_count": 73,
   "id": "2925a6b3",
   "metadata": {},
   "outputs": [],
   "source": [
    "# Dropping the target attribute\n",
    "X = data.drop(columns=['Class'])\n",
    "y = data['Class']"
   ]
  },
  {
   "cell_type": "code",
   "execution_count": 74,
   "id": "80c14fe7",
   "metadata": {},
   "outputs": [],
   "source": [
    "# Splitting the data to a training and a test set\n",
    "X_train, X_test, y_train, y_test = train_test_split(X, y, test_size=0.2, random_state=45, stratify=y)"
   ]
  },
  {
   "cell_type": "code",
   "execution_count": 91,
   "id": "65106bd3",
   "metadata": {},
   "outputs": [
    {
     "name": "stdout",
     "output_type": "stream",
     "text": [
      "Logistic Regression Accuracy: 77.08%\n",
      "Logistic Regression Precision: 78.40%\n",
      "Logistic Regression Recall: 77.11%\n"
     ]
    }
   ],
   "source": [
    "# Initialize the Logistic Regression model with a high maximum number of iterations\n",
    "log_reg = LogisticRegression(max_iter=100000)\n",
    "\n",
    "# Train the Logistic Regression model on the training data\n",
    "log_reg.fit(X_train, y_train)\n",
    "\n",
    "# Predict the target values for the test data\n",
    "y_pred = log_reg.predict(X_test)\n",
    "\n",
    "# Evaluate the model's performance\n",
    "accuracy = accuracy_score(y_test, y_pred) * 100\n",
    "precision = precision_score(y_test, y_pred, average='macro') * 100\n",
    "recall = recall_score(y_test, y_pred, average='macro') * 100\n",
    "\n",
    "# Output the performance metrics\n",
    "print(f\"Logistic Regression Accuracy: {accuracy:.2f}%\")\n",
    "print(f\"Logistic Regression Precision: {precision:.2f}%\")\n",
    "print(f\"Logistic Regression Recall: {recall:.2f}%\")\n"
   ]
  },
  {
   "cell_type": "code",
   "execution_count": 92,
   "id": "d7a95ddd",
   "metadata": {},
   "outputs": [
    {
     "data": {
      "image/png": "[encoded data removed]",
      "text/plain": [
       "<Figure size 576x432 with 2 Axes>"
      ]
     },
     "metadata": {
      "needs_background": "light"
     },
     "output_type": "display_data"
    }
   ],
   "source": [
    "# Compute the confusion matrix for the Logistic Regression predictions\n",
    "conf_matrix = confusion_matrix(y_test, y_pred)\n",
    "\n",
    "# Create a figure for the heatmap\n",
    "plt.figure(figsize=(8, 6))\n",
    "\n",
    "# Plot the confusion matrix as a heatmap using seaborn\n",
    "sns.heatmap(conf_matrix, annot=True, fmt=\"d\", cmap=\"Blues\", square=True,\n",
    "            xticklabels=log_reg.classes_,  # Predicted class labels (x-axis)\n",
    "            yticklabels=log_reg.classes_)  # Actual class labels (y-axis)\n",
    "\n",
    "# Label the x-axis\n",
    "plt.xlabel('Predicted')  # Predicted class label\n",
    "\n",
    "# Label the y-axis\n",
    "plt.ylabel('Actual')  # Actual class label\n",
    "\n",
    "# Add a title to the plot\n",
    "plt.title('Confusion Matrix (Logistic Regression)')\n",
    "\n",
    "# Show the heatmap\n",
    "plt.show()"
   ]
  },
  {
   "cell_type": "code",
   "execution_count": 93,
   "id": "b4185da2",
   "metadata": {},
   "outputs": [
    {
     "name": "stdout",
     "output_type": "stream",
     "text": [
      "Random Forest Accuracy: 83.33%\n",
      "Random Forest Precision: 87.50%\n",
      "Random Forest Recall: 81.68%\n"
     ]
    }
   ],
   "source": [
    "# Initialize the Random Forest Classifier with a fixed random state\n",
    "rf_clf = RandomForestClassifier(random_state=42)\n",
    "\n",
    "# Train the Random Forest model on the training data\n",
    "rf_clf.fit(X_train, y_train)\n",
    "\n",
    "# Predict the target values for the test data\n",
    "y_pred_rf = rf_clf.predict(X_test)\n",
    "\n",
    "# Evaluate the model's performance\n",
    "accuracy_rf = accuracy_score(y_test, y_pred_rf) * 100\n",
    "precision_rf = precision_score(y_test, y_pred_rf, average='macro') * 100\n",
    "recall_rf = recall_score(y_test, y_pred_rf, average='macro') * 100\n",
    "\n",
    "# Output the performance metrics\n",
    "print(f\"Random Forest Accuracy: {accuracy_rf:.2f}%\")\n",
    "print(f\"Random Forest Precision: {precision_rf:.2f}%\")\n",
    "print(f\"Random Forest Recall: {recall_rf:.2f}%\")\n"
   ]
  },
  {
   "cell_type": "code",
   "execution_count": 94,
   "id": "aa2fa006",
   "metadata": {},
   "outputs": [
    {
     "data": {
      "image/png": "[encoded data removed]",
      "text/plain": [
       "<Figure size 576x432 with 2 Axes>"
      ]
     },
     "metadata": {
      "needs_background": "light"
     },
     "output_type": "display_data"
    }
   ],
   "source": [
    "# Compute the confusion matrix for the Random Forest predictions\n",
    "conf_matrix_rf = confusion_matrix(y_test, y_pred_rf)\n",
    "\n",
    "# Create a figure for the heatmap\n",
    "plt.figure(figsize=(8, 6))\n",
    "\n",
    "# Plot the confusion matrix as a heatmap using seaborn\n",
    "sns.heatmap(conf_matrix_rf, annot=True, fmt=\"d\", cmap=\"Blues\", square=True,\n",
    "            xticklabels=rf_clf.classes_,  # Predicted class labels (x-axis)\n",
    "            yticklabels=rf_clf.classes_)  # Actual class labels (y-axis)\n",
    "\n",
    "# Label the x-axis\n",
    "plt.xlabel('Predicted')  # Predicted class label\n",
    "\n",
    "# Label the y-axis\n",
    "plt.ylabel('Actual')  # Actual class label\n",
    "\n",
    "# Add a title to the plot\n",
    "plt.title('Confusion Matrix (Random Forest)')\n",
    "\n",
    "# Show the heatmap\n",
    "plt.show()"
   ]
  },
  {
   "cell_type": "code",
   "execution_count": null,
   "id": "4f6c6a6a",
   "metadata": {},
   "outputs": [],
   "source": []
  },
  {
   "cell_type": "code",
   "execution_count": null,
   "id": "0667412c",
   "metadata": {},
   "outputs": [],
   "source": []
  }
 ],
 "metadata": {
  "kernelspec": {
   "display_name": "Python 3 (ipykernel)",
   "language": "python",
   "name": "python3"
  },
  "language_info": {
   "codemirror_mode": {
    "name": "ipython",
    "version": 3
   },
   "file_extension": ".py",
   "mimetype": "text/x-python",
   "name": "python",
   "nbconvert_exporter": "python",
   "pygments_lexer": "ipython3",
   "version": "3.9.12"
  }
 },
 "nbformat": 4,
 "nbformat_minor": 5
}
