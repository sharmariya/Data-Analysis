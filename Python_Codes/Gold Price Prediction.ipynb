{
 "cells": [
  {
   "cell_type": "code",
   "execution_count": 1,
   "id": "209a6df4",
   "metadata": {},
   "outputs": [],
   "source": [
    "import pandas as pd\n",
    "import numpy as np\n",
    "import matplotlib.pyplot as plt\n",
    "import seaborn as sns\n",
    "from sklearn.model_selection import train_test_split\n",
    "from sklearn.ensemble import RandomForestRegressor\n",
    "from sklearn import metrics\n"
   ]
  },
  {
   "cell_type": "code",
   "execution_count": 2,
   "id": "9625709a",
   "metadata": {},
   "outputs": [],
   "source": [
    "#loading data\n",
    "gold_data=pd.read_csv(r\"C:\\Users\\sharm\\OneDrive\\Documents\\datasets\\gld_price_data.csv\")"
   ]
  },
  {
   "cell_type": "code",
   "execution_count": 3,
   "id": "81aee7c1",
   "metadata": {},
   "outputs": [
    {
     "data": {
      "text/html": [
       "<div>\n",
       "<style scoped>\n",
       "    .dataframe tbody tr th:only-of-type {\n",
       "        vertical-align: middle;\n",
       "    }\n",
       "\n",
       "    .dataframe tbody tr th {\n",
       "        vertical-align: top;\n",
       "    }\n",
       "\n",
       "    .dataframe thead th {\n",
       "        text-align: right;\n",
       "    }\n",
       "</style>\n",
       "<table border=\"1\" class=\"dataframe\">\n",
       "  <thead>\n",
       "    <tr style=\"text-align: right;\">\n",
       "      <th></th>\n",
       "      <th>Date</th>\n",
       "      <th>SPX</th>\n",
       "      <th>GLD</th>\n",
       "      <th>USO</th>\n",
       "      <th>SLV</th>\n",
       "      <th>EUR/USD</th>\n",
       "    </tr>\n",
       "  </thead>\n",
       "  <tbody>\n",
       "    <tr>\n",
       "      <th>0</th>\n",
       "      <td>1/2/2008</td>\n",
       "      <td>1447.160034</td>\n",
       "      <td>84.860001</td>\n",
       "      <td>78.470001</td>\n",
       "      <td>15.180</td>\n",
       "      <td>1.471692</td>\n",
       "    </tr>\n",
       "    <tr>\n",
       "      <th>1</th>\n",
       "      <td>1/3/2008</td>\n",
       "      <td>1447.160034</td>\n",
       "      <td>85.570000</td>\n",
       "      <td>78.370003</td>\n",
       "      <td>15.285</td>\n",
       "      <td>1.474491</td>\n",
       "    </tr>\n",
       "    <tr>\n",
       "      <th>2</th>\n",
       "      <td>1/4/2008</td>\n",
       "      <td>1411.630005</td>\n",
       "      <td>85.129997</td>\n",
       "      <td>77.309998</td>\n",
       "      <td>15.167</td>\n",
       "      <td>1.475492</td>\n",
       "    </tr>\n",
       "    <tr>\n",
       "      <th>3</th>\n",
       "      <td>1/7/2008</td>\n",
       "      <td>1416.180054</td>\n",
       "      <td>84.769997</td>\n",
       "      <td>75.500000</td>\n",
       "      <td>15.053</td>\n",
       "      <td>1.468299</td>\n",
       "    </tr>\n",
       "    <tr>\n",
       "      <th>4</th>\n",
       "      <td>1/8/2008</td>\n",
       "      <td>1390.189941</td>\n",
       "      <td>86.779999</td>\n",
       "      <td>76.059998</td>\n",
       "      <td>15.590</td>\n",
       "      <td>1.557099</td>\n",
       "    </tr>\n",
       "  </tbody>\n",
       "</table>\n",
       "</div>"
      ],
      "text/plain": [
       "       Date          SPX        GLD        USO     SLV   EUR/USD\n",
       "0  1/2/2008  1447.160034  84.860001  78.470001  15.180  1.471692\n",
       "1  1/3/2008  1447.160034  85.570000  78.370003  15.285  1.474491\n",
       "2  1/4/2008  1411.630005  85.129997  77.309998  15.167  1.475492\n",
       "3  1/7/2008  1416.180054  84.769997  75.500000  15.053  1.468299\n",
       "4  1/8/2008  1390.189941  86.779999  76.059998  15.590  1.557099"
      ]
     },
     "execution_count": 3,
     "metadata": {},
     "output_type": "execute_result"
    }
   ],
   "source": [
    "#viewing top 5 \n",
    "gold_data.head()"
   ]
  },
  {
   "cell_type": "code",
   "execution_count": 4,
   "id": "16c2106c",
   "metadata": {},
   "outputs": [
    {
     "data": {
      "text/plain": [
       "<bound method DataFrame.info of            Date          SPX         GLD        USO      SLV   EUR/USD\n",
       "0      1/2/2008  1447.160034   84.860001  78.470001  15.1800  1.471692\n",
       "1      1/3/2008  1447.160034   85.570000  78.370003  15.2850  1.474491\n",
       "2      1/4/2008  1411.630005   85.129997  77.309998  15.1670  1.475492\n",
       "3      1/7/2008  1416.180054   84.769997  75.500000  15.0530  1.468299\n",
       "4      1/8/2008  1390.189941   86.779999  76.059998  15.5900  1.557099\n",
       "...         ...          ...         ...        ...      ...       ...\n",
       "2285   5/8/2018  2671.919922  124.589996  14.060000  15.5100  1.186789\n",
       "2286   5/9/2018  2697.790039  124.330002  14.370000  15.5300  1.184722\n",
       "2287  5/10/2018  2723.070068  125.180000  14.410000  15.7400  1.191753\n",
       "2288  5/14/2018  2730.129883  124.489998  14.380000  15.5600  1.193118\n",
       "2289  5/16/2018  2725.780029  122.543800  14.405800  15.4542  1.182033\n",
       "\n",
       "[2290 rows x 6 columns]>"
      ]
     },
     "execution_count": 4,
     "metadata": {},
     "output_type": "execute_result"
    }
   ],
   "source": [
    "#getting info about data\n",
    "gold_data.info"
   ]
  },
  {
   "cell_type": "code",
   "execution_count": 5,
   "id": "bd69ec7b",
   "metadata": {},
   "outputs": [
    {
     "data": {
      "text/plain": [
       "(2290, 6)"
      ]
     },
     "execution_count": 5,
     "metadata": {},
     "output_type": "execute_result"
    }
   ],
   "source": [
    "#getting no. of rows and columns\n",
    "gold_data.shape"
   ]
  },
  {
   "cell_type": "code",
   "execution_count": 6,
   "id": "17c6fffd",
   "metadata": {},
   "outputs": [
    {
     "data": {
      "text/html": [
       "<div>\n",
       "<style scoped>\n",
       "    .dataframe tbody tr th:only-of-type {\n",
       "        vertical-align: middle;\n",
       "    }\n",
       "\n",
       "    .dataframe tbody tr th {\n",
       "        vertical-align: top;\n",
       "    }\n",
       "\n",
       "    .dataframe thead th {\n",
       "        text-align: right;\n",
       "    }\n",
       "</style>\n",
       "<table border=\"1\" class=\"dataframe\">\n",
       "  <thead>\n",
       "    <tr style=\"text-align: right;\">\n",
       "      <th></th>\n",
       "      <th>SPX</th>\n",
       "      <th>GLD</th>\n",
       "      <th>USO</th>\n",
       "      <th>SLV</th>\n",
       "      <th>EUR/USD</th>\n",
       "    </tr>\n",
       "  </thead>\n",
       "  <tbody>\n",
       "    <tr>\n",
       "      <th>count</th>\n",
       "      <td>2290.000000</td>\n",
       "      <td>2290.000000</td>\n",
       "      <td>2290.000000</td>\n",
       "      <td>2290.000000</td>\n",
       "      <td>2290.000000</td>\n",
       "    </tr>\n",
       "    <tr>\n",
       "      <th>mean</th>\n",
       "      <td>1654.315776</td>\n",
       "      <td>122.732875</td>\n",
       "      <td>31.842221</td>\n",
       "      <td>20.084997</td>\n",
       "      <td>1.283653</td>\n",
       "    </tr>\n",
       "    <tr>\n",
       "      <th>std</th>\n",
       "      <td>519.111540</td>\n",
       "      <td>23.283346</td>\n",
       "      <td>19.523517</td>\n",
       "      <td>7.092566</td>\n",
       "      <td>0.131547</td>\n",
       "    </tr>\n",
       "    <tr>\n",
       "      <th>min</th>\n",
       "      <td>676.530029</td>\n",
       "      <td>70.000000</td>\n",
       "      <td>7.960000</td>\n",
       "      <td>8.850000</td>\n",
       "      <td>1.039047</td>\n",
       "    </tr>\n",
       "    <tr>\n",
       "      <th>25%</th>\n",
       "      <td>1239.874969</td>\n",
       "      <td>109.725000</td>\n",
       "      <td>14.380000</td>\n",
       "      <td>15.570000</td>\n",
       "      <td>1.171313</td>\n",
       "    </tr>\n",
       "    <tr>\n",
       "      <th>50%</th>\n",
       "      <td>1551.434998</td>\n",
       "      <td>120.580002</td>\n",
       "      <td>33.869999</td>\n",
       "      <td>17.268500</td>\n",
       "      <td>1.303297</td>\n",
       "    </tr>\n",
       "    <tr>\n",
       "      <th>75%</th>\n",
       "      <td>2073.010070</td>\n",
       "      <td>132.840004</td>\n",
       "      <td>37.827501</td>\n",
       "      <td>22.882500</td>\n",
       "      <td>1.369971</td>\n",
       "    </tr>\n",
       "    <tr>\n",
       "      <th>max</th>\n",
       "      <td>2872.870117</td>\n",
       "      <td>184.589996</td>\n",
       "      <td>117.480003</td>\n",
       "      <td>47.259998</td>\n",
       "      <td>1.598798</td>\n",
       "    </tr>\n",
       "  </tbody>\n",
       "</table>\n",
       "</div>"
      ],
      "text/plain": [
       "               SPX          GLD          USO          SLV      EUR/USD\n",
       "count  2290.000000  2290.000000  2290.000000  2290.000000  2290.000000\n",
       "mean   1654.315776   122.732875    31.842221    20.084997     1.283653\n",
       "std     519.111540    23.283346    19.523517     7.092566     0.131547\n",
       "min     676.530029    70.000000     7.960000     8.850000     1.039047\n",
       "25%    1239.874969   109.725000    14.380000    15.570000     1.171313\n",
       "50%    1551.434998   120.580002    33.869999    17.268500     1.303297\n",
       "75%    2073.010070   132.840004    37.827501    22.882500     1.369971\n",
       "max    2872.870117   184.589996   117.480003    47.259998     1.598798"
      ]
     },
     "execution_count": 6,
     "metadata": {},
     "output_type": "execute_result"
    }
   ],
   "source": [
    "#getting statisitcs of each column\n",
    "gold_data.describe()"
   ]
  },
  {
   "cell_type": "code",
   "execution_count": 8,
   "id": "16faf1e0",
   "metadata": {},
   "outputs": [
    {
     "data": {
      "text/plain": [
       "Date       0\n",
       "SPX        0\n",
       "GLD        0\n",
       "USO        0\n",
       "SLV        0\n",
       "EUR/USD    0\n",
       "dtype: int64"
      ]
     },
     "execution_count": 8,
     "metadata": {},
     "output_type": "execute_result"
    }
   ],
   "source": [
    "#checking missing values\n",
    "gold_data.isnull().sum()"
   ]
  },
  {
   "cell_type": "code",
   "execution_count": 9,
   "id": "9206925e",
   "metadata": {},
   "outputs": [],
   "source": [
    "#finding correlation\n",
    "co=gold_data.corr()"
   ]
  },
  {
   "cell_type": "code",
   "execution_count": 10,
   "id": "5702be28",
   "metadata": {},
   "outputs": [
    {
     "data": {
      "text/plain": [
       "<AxesSubplot:>"
      ]
     },
     "execution_count": 10,
     "metadata": {},
     "output_type": "execute_result"
    },
    {
     "data": {
      "image/png": "[encoded data removed]",
      "text/plain": [
       "<Figure size 720x720 with 2 Axes>"
      ]
     },
     "metadata": {
      "needs_background": "light"
     },
     "output_type": "display_data"
    }
   ],
   "source": [
    "#constructing heatmap for correlation\n",
    "plt.figure(figsize=(10,10))\n",
    "sns.heatmap(co,square=True, annot=True, annot_kws={'size':8},cbar=True,fmt='.1f',cmap=\"Blues\")\n"
   ]
  },
  {
   "cell_type": "code",
   "execution_count": 11,
   "id": "6b49ba20",
   "metadata": {},
   "outputs": [
    {
     "data": {
      "text/plain": [
       "SPX        0.049345\n",
       "GLD        1.000000\n",
       "USO       -0.186360\n",
       "SLV        0.866632\n",
       "EUR/USD   -0.024375\n",
       "Name: GLD, dtype: float64"
      ]
     },
     "execution_count": 11,
     "metadata": {},
     "output_type": "execute_result"
    }
   ],
   "source": [
    "#correlation values of gold\n",
    "co['GLD']"
   ]
  },
  {
   "cell_type": "code",
   "execution_count": 12,
   "id": "7378894b",
   "metadata": {},
   "outputs": [
    {
     "name": "stderr",
     "output_type": "stream",
     "text": [
      "C:\\Users\\sharm\\anaconda3\\lib\\site-packages\\seaborn\\distributions.py:2619: FutureWarning: `distplot` is a deprecated function and will be removed in a future version. Please adapt your code to use either `displot` (a figure-level function with similar flexibility) or `histplot` (an axes-level function for histograms).\n",
      "  warnings.warn(msg, FutureWarning)\n"
     ]
    },
    {
     "data": {
      "text/plain": [
       "<AxesSubplot:xlabel='GLD', ylabel='Density'>"
      ]
     },
     "execution_count": 12,
     "metadata": {},
     "output_type": "execute_result"
    },
    {
     "data": {
      "image/png": "[encoded data removed]",
      "text/plain": [
       "<Figure size 432x288 with 1 Axes>"
      ]
     },
     "metadata": {
      "needs_background": "light"
     },
     "output_type": "display_data"
    }
   ],
   "source": [
    "#CHECKING DISTRIBUTION OF GOLD PRICE\n",
    "sns.distplot(gold_data['GLD'],color='Green')"
   ]
  },
  {
   "cell_type": "code",
   "execution_count": 13,
   "id": "e5a3d309",
   "metadata": {},
   "outputs": [],
   "source": [
    "#splottiong features and target\n",
    "X=gold_data.drop(['GLD','Date'],axis=1)\n",
    "Y=gold_data['GLD']"
   ]
  },
  {
   "cell_type": "code",
   "execution_count": 14,
   "id": "03418e3d",
   "metadata": {},
   "outputs": [
    {
     "data": {
      "text/html": [
       "<div>\n",
       "<style scoped>\n",
       "    .dataframe tbody tr th:only-of-type {\n",
       "        vertical-align: middle;\n",
       "    }\n",
       "\n",
       "    .dataframe tbody tr th {\n",
       "        vertical-align: top;\n",
       "    }\n",
       "\n",
       "    .dataframe thead th {\n",
       "        text-align: right;\n",
       "    }\n",
       "</style>\n",
       "<table border=\"1\" class=\"dataframe\">\n",
       "  <thead>\n",
       "    <tr style=\"text-align: right;\">\n",
       "      <th></th>\n",
       "      <th>SPX</th>\n",
       "      <th>USO</th>\n",
       "      <th>SLV</th>\n",
       "      <th>EUR/USD</th>\n",
       "    </tr>\n",
       "  </thead>\n",
       "  <tbody>\n",
       "    <tr>\n",
       "      <th>0</th>\n",
       "      <td>1447.160034</td>\n",
       "      <td>78.470001</td>\n",
       "      <td>15.1800</td>\n",
       "      <td>1.471692</td>\n",
       "    </tr>\n",
       "    <tr>\n",
       "      <th>1</th>\n",
       "      <td>1447.160034</td>\n",
       "      <td>78.370003</td>\n",
       "      <td>15.2850</td>\n",
       "      <td>1.474491</td>\n",
       "    </tr>\n",
       "    <tr>\n",
       "      <th>2</th>\n",
       "      <td>1411.630005</td>\n",
       "      <td>77.309998</td>\n",
       "      <td>15.1670</td>\n",
       "      <td>1.475492</td>\n",
       "    </tr>\n",
       "    <tr>\n",
       "      <th>3</th>\n",
       "      <td>1416.180054</td>\n",
       "      <td>75.500000</td>\n",
       "      <td>15.0530</td>\n",
       "      <td>1.468299</td>\n",
       "    </tr>\n",
       "    <tr>\n",
       "      <th>4</th>\n",
       "      <td>1390.189941</td>\n",
       "      <td>76.059998</td>\n",
       "      <td>15.5900</td>\n",
       "      <td>1.557099</td>\n",
       "    </tr>\n",
       "    <tr>\n",
       "      <th>...</th>\n",
       "      <td>...</td>\n",
       "      <td>...</td>\n",
       "      <td>...</td>\n",
       "      <td>...</td>\n",
       "    </tr>\n",
       "    <tr>\n",
       "      <th>2285</th>\n",
       "      <td>2671.919922</td>\n",
       "      <td>14.060000</td>\n",
       "      <td>15.5100</td>\n",
       "      <td>1.186789</td>\n",
       "    </tr>\n",
       "    <tr>\n",
       "      <th>2286</th>\n",
       "      <td>2697.790039</td>\n",
       "      <td>14.370000</td>\n",
       "      <td>15.5300</td>\n",
       "      <td>1.184722</td>\n",
       "    </tr>\n",
       "    <tr>\n",
       "      <th>2287</th>\n",
       "      <td>2723.070068</td>\n",
       "      <td>14.410000</td>\n",
       "      <td>15.7400</td>\n",
       "      <td>1.191753</td>\n",
       "    </tr>\n",
       "    <tr>\n",
       "      <th>2288</th>\n",
       "      <td>2730.129883</td>\n",
       "      <td>14.380000</td>\n",
       "      <td>15.5600</td>\n",
       "      <td>1.193118</td>\n",
       "    </tr>\n",
       "    <tr>\n",
       "      <th>2289</th>\n",
       "      <td>2725.780029</td>\n",
       "      <td>14.405800</td>\n",
       "      <td>15.4542</td>\n",
       "      <td>1.182033</td>\n",
       "    </tr>\n",
       "  </tbody>\n",
       "</table>\n",
       "<p>2290 rows × 4 columns</p>\n",
       "</div>"
      ],
      "text/plain": [
       "              SPX        USO      SLV   EUR/USD\n",
       "0     1447.160034  78.470001  15.1800  1.471692\n",
       "1     1447.160034  78.370003  15.2850  1.474491\n",
       "2     1411.630005  77.309998  15.1670  1.475492\n",
       "3     1416.180054  75.500000  15.0530  1.468299\n",
       "4     1390.189941  76.059998  15.5900  1.557099\n",
       "...           ...        ...      ...       ...\n",
       "2285  2671.919922  14.060000  15.5100  1.186789\n",
       "2286  2697.790039  14.370000  15.5300  1.184722\n",
       "2287  2723.070068  14.410000  15.7400  1.191753\n",
       "2288  2730.129883  14.380000  15.5600  1.193118\n",
       "2289  2725.780029  14.405800  15.4542  1.182033\n",
       "\n",
       "[2290 rows x 4 columns]"
      ]
     },
     "execution_count": 14,
     "metadata": {},
     "output_type": "execute_result"
    }
   ],
   "source": [
    "X"
   ]
  },
  {
   "cell_type": "code",
   "execution_count": 15,
   "id": "049ecac2",
   "metadata": {},
   "outputs": [
    {
     "data": {
      "text/plain": [
       "0        84.860001\n",
       "1        85.570000\n",
       "2        85.129997\n",
       "3        84.769997\n",
       "4        86.779999\n",
       "           ...    \n",
       "2285    124.589996\n",
       "2286    124.330002\n",
       "2287    125.180000\n",
       "2288    124.489998\n",
       "2289    122.543800\n",
       "Name: GLD, Length: 2290, dtype: float64"
      ]
     },
     "execution_count": 15,
     "metadata": {},
     "output_type": "execute_result"
    }
   ],
   "source": [
    "Y"
   ]
  },
  {
   "cell_type": "code",
   "execution_count": 16,
   "id": "575072e1",
   "metadata": {},
   "outputs": [],
   "source": [
    "#Splitting data into training and testing data\n",
    "X_train, X_test, Y_train, Y_test=train_test_split(X,Y,test_size=0.2,random_state=3)"
   ]
  },
  {
   "cell_type": "code",
   "execution_count": 18,
   "id": "8e5b73e9",
   "metadata": {},
   "outputs": [],
   "source": [
    "#model training\n",
    "reg=RandomForestRegressor(n_estimators=100)"
   ]
  },
  {
   "cell_type": "code",
   "execution_count": 19,
   "id": "05c973e9",
   "metadata": {},
   "outputs": [
    {
     "data": {
      "text/plain": [
       "RandomForestRegressor()"
      ]
     },
     "execution_count": 19,
     "metadata": {},
     "output_type": "execute_result"
    }
   ],
   "source": [
    "#training model\n",
    "reg.fit(X_train, Y_train)"
   ]
  },
  {
   "cell_type": "code",
   "execution_count": 20,
   "id": "87d8ddb6",
   "metadata": {},
   "outputs": [
    {
     "name": "stdout",
     "output_type": "stream",
     "text": [
      "[164.1633004  127.52949893 124.23659941 119.5534989  125.94959885\n",
      "  85.99729826 171.72650149 138.14599991 106.79490056 132.73890155\n",
      " 120.62719928 124.77590056 143.39479908 104.63729997  80.86129925\n",
      " 119.60499948 140.73950018  90.2335007   91.51369932 128.30730222\n",
      " 125.64759964 148.3782006  117.12370171 153.09939928 129.36309927\n",
      " 129.3047011  118.30490085 111.53780038 168.21750198 158.92569885\n",
      " 125.97830151 154.10630188 127.0925995  122.6405978  116.48190165\n",
      " 154.59340013 115.02389997 120.61060141 103.91860222 105.54990041\n",
      " 134.43499886  85.49399938 155.46590091 121.21190026 122.21660081\n",
      " 155.31750101 120.36560028 116.60843797 168.44020271 116.5057005\n",
      " 138.39010131 161.64169841 158.86569988 153.10790103 123.7807002\n",
      " 116.93820018 167.10680077 117.18279943 165.79720088  84.03899995\n",
      " 121.36959925 122.15850011 119.89150036 172.04149885 118.61870026\n",
      " 180.26869713 161.74950319 138.46060288 115.87429977  92.69020041\n",
      " 171.99149996 117.70129993 117.52769856 125.62560002 146.91449985\n",
      "  90.98740095  83.70579894  88.93559993 102.702799   124.7104006\n",
      " 123.13500047 170.09180294 120.94369961 126.02109947 160.57270552\n",
      " 120.63940088 169.83610125 148.28609741  87.1606994  126.71700014\n",
      " 118.45979975  90.11659997 118.93960012 116.70459817  89.07709918\n",
      " 137.61560218 160.51860116 130.95260331 105.5985012  122.62709936\n",
      " 120.30630012 123.71730112 108.19589977 115.41910093 114.21959914\n",
      " 120.83830036 158.7619027  126.79459947 119.93889946  91.03149993\n",
      " 125.1750998  161.54879807 159.67550263  87.65799922 139.1661\n",
      " 167.1976985  154.96610051 108.98740039 108.97589839 124.50990051\n",
      " 113.81250173 117.45059977 160.81460169 121.88733814 143.73579671\n",
      " 116.30280057 163.56660084 119.8879994  112.49120103 149.19079969\n",
      " 104.2343994  121.78710006  78.07799943 161.29849775 125.76430057\n",
      " 132.02940115 120.10330002 107.58639991 153.22410022 114.63920072\n",
      " 161.51559997 128.52740184  91.69060126 121.22207593 131.0345002\n",
      "  89.70469981 120.33500006 120.2411009  112.78910098  90.76080072\n",
      "  91.19199907 117.29040044 151.21920042 113.4113998  132.54140243\n",
      " 117.35000127 119.44730038 156.43969878 127.88090406 114.66769994\n",
      " 119.53910088 142.23379905 115.78830102  92.28729904  89.76990032\n",
      " 166.4256018  112.3240997  115.59110103 119.79290105 114.4526998\n",
      "  92.30719843 117.20739922 155.08810171 154.46780021  93.13300009\n",
      " 125.88990086 104.33299962 155.17710047 115.36270078 120.17189855\n",
      "  91.83549954  91.89010001 153.32160091 173.37079718  79.35359987\n",
      " 125.80119954 119.16280044 150.63530123  91.120801   164.43640114\n",
      " 138.62869758 117.85970098 140.8453004   82.03659794 124.90119919\n",
      " 118.99290101  90.92820075  93.92429944 173.82369678 165.20300153\n",
      " 168.36370021 139.71830235 118.23790073 130.82180136 124.27940057\n",
      " 129.14439975 121.45380075 122.01259903 127.18220013 104.00710035\n",
      " 116.09070056 133.37179947 165.12729828 125.55300018 113.84430215\n",
      " 123.1703004   82.49330086 102.84459849 121.24949899 163.47800103\n",
      " 121.36749961  87.40590057 127.47320013 108.22449953 158.94060129\n",
      " 164.86989978 123.95200042 124.53860044 146.67029872  89.86589951\n",
      "  88.58140053 115.42880046 108.45929999 128.55949876 108.5937\n",
      " 114.57890014 167.83469909 119.67140071 106.91969915 157.85499919\n",
      " 125.09669913 114.33800116 103.88970032 150.141999   166.15049858\n",
      " 171.28830256  92.27049931 114.63790041 118.90369916 113.49400104\n",
      " 159.29520495 120.22129921  72.60780207 119.05849944 115.51990073\n",
      " 167.14599875 118.80020047 114.50109947  94.38049949 117.20100142\n",
      " 128.09879881 114.27929973 156.38990055 119.26750075 118.42320139\n",
      " 161.23360076 118.95190037  95.06989883 118.36050095 166.05080045\n",
      " 111.08159866 146.86950234 118.88180057  86.4268986  171.57160117\n",
      " 154.55869816 162.30550081  84.6531981  119.70350005 108.25230017\n",
      "  92.67549972  72.44040007  93.10049974 117.63710013 177.29829938\n",
      " 116.02860119 123.63509941  86.9653989  113.52910069 112.16059994\n",
      " 162.51580385 119.02580106  87.29449783 169.2627993  125.30190026\n",
      " 125.94550057 121.3483004  116.79470012  90.11959984 146.56479958\n",
      " 108.81119882  91.7573982  118.24799959 152.63320239 122.76509956\n",
      " 143.44239942 148.13310141 108.61189973 129.328303   112.23780029\n",
      " 114.36810045 115.13680006 158.01099852  83.60479865 124.19689961\n",
      "  91.49169936 113.74899918 126.91539767  92.22960023 129.71330213\n",
      " 124.52659916 128.01739861 121.69729904  90.18619976  87.0401982\n",
      " 136.40089866 165.44540173 169.95719942 160.00530321 123.92039986\n",
      " 106.56230051 116.57169998 124.42889958  91.75849867 167.03479878\n",
      "  91.71679915 127.97900105 117.55820082 166.52339882 115.07369984\n",
      " 162.82710221 168.80879869  84.25019968 117.33110027 101.92669916\n",
      " 129.82580087 112.93339921  80.62069884  92.40999994 135.95410004\n",
      "  98.53539969 117.42229866 116.46070057 118.83850016 125.92250059\n",
      " 115.18779985  97.26590116  73.44159946 118.1006      89.50080092\n",
      " 135.13899879 113.63399957 114.54249951 110.70070108  85.83949892\n",
      " 112.83570093 126.42290051 156.38129766 119.6889999   77.48529983\n",
      " 113.48370091  87.02129819 115.25729894  96.17250201 115.85120062\n",
      " 125.30939936 114.16340074 119.03000113 119.09130071 125.7200985\n",
      " 111.85150159 108.99549924 165.60500175  96.18819919 121.89200108\n",
      "  91.98620023 115.74300125 110.88759969 155.78290342 117.62539992\n",
      " 154.41470083  86.43519876 142.04109896 110.36989843 106.51179989\n",
      " 128.15759733 118.89689974 119.60080032 117.89980044 148.54290137\n",
      " 109.18489894 135.3828013  157.43290003 107.19719969 102.52999994\n",
      " 167.42769895 120.31220092 140.24270156 104.08859967  94.28709984\n",
      " 114.18260145 123.59830091 109.00939831 168.45090113 170.85310057\n",
      " 117.77899969 169.0979974  126.34050076 160.88870549  95.59349942\n",
      "  99.37069982 125.55629977  73.03160057  89.53799969  93.62880051\n",
      " 148.31149715 114.15860136 108.00579941 122.78029872  90.03009956\n",
      " 149.7099008   93.66089829  85.79109875 106.50580096  74.22570027\n",
      " 133.95359934 167.28280191 117.37729984 117.85429927  96.6710016\n",
      " 126.38790034 128.05080066 113.73270005 126.80930024 127.19879959\n",
      " 116.29200062  95.6952994  123.38239919 126.1395009   89.6963011\n",
      " 133.91420023 118.54420068 115.89799861 144.14709947  93.83190083\n",
      " 116.50899972  87.76970042 119.9180999 ]\n"
     ]
    }
   ],
   "source": [
    "#prediction on test data\n",
    "pred=reg.predict(X_test)\n",
    "print(pred)"
   ]
  },
  {
   "cell_type": "code",
   "execution_count": 21,
   "id": "9eec492e",
   "metadata": {},
   "outputs": [
    {
     "name": "stdout",
     "output_type": "stream",
     "text": [
      "R square error: 0.9856080495272377\n"
     ]
    }
   ],
   "source": [
    "#R squared error\n",
    "error_score=metrics.r2_score(Y_test,pred)\n",
    "print(\"R square error:\",error_score)"
   ]
  },
  {
   "cell_type": "code",
   "execution_count": 22,
   "id": "0e256075",
   "metadata": {},
   "outputs": [],
   "source": [
    "#converting y_test data into list \n",
    "Y_test=list(Y_test)"
   ]
  },
  {
   "cell_type": "code",
   "execution_count": 24,
   "id": "6f500409",
   "metadata": {},
   "outputs": [
    {
     "data": {
      "image/png": "[encoded data removed]",
      "text/plain": [
       "<Figure size 432x288 with 1 Axes>"
      ]
     },
     "metadata": {
      "needs_background": "light"
     },
     "output_type": "display_data"
    }
   ],
   "source": [
    "#Comparing actual vs Predicted values\n",
    "plt.plot(Y_test,color='Blue',label='Actual Price')\n",
    "plt.plot(pred,color='Green',label='Predicted Price')\n",
    "plt.xlabel('Number of values')\n",
    "plt.ylabel('GLD Price')\n",
    "plt.legend()\n",
    "plt.show()"
   ]
  },
  {
   "cell_type": "code",
   "execution_count": null,
   "id": "8810868e",
   "metadata": {},
   "outputs": [],
   "source": []
  }
 ],
 "metadata": {
  "kernelspec": {
   "display_name": "Python 3 (ipykernel)",
   "language": "python",
   "name": "python3"
  },
  "language_info": {
   "codemirror_mode": {
    "name": "ipython",
    "version": 3
   },
   "file_extension": ".py",
   "mimetype": "text/x-python",
   "name": "python",
   "nbconvert_exporter": "python",
   "pygments_lexer": "ipython3",
   "version": "3.9.12"
  }
 },
 "nbformat": 4,
 "nbformat_minor": 5
}
